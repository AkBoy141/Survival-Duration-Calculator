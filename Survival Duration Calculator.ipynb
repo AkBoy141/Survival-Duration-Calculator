{
 "cells": [
  {
   "cell_type": "code",
   "execution_count": null,
   "id": "423d37ce",
   "metadata": {},
   "outputs": [],
   "source": [
    "      \n",
    "def calculate_duration(age):\n",
    "  months = age * 12\n",
    "  weeks = age * 52\n",
    "  days = age * 365\n",
    "  hours = days * 24\n",
    "  minutes = hours * 60\n",
    "  seconds = minutes * 60\n",
    "  \n",
    "  return months, weeks, days, hours, minutes, seconds\n",
    "\n",
    "def main():\n",
    "  try:\n",
    "    age = int(input(\"Enter the age of the person: \"))\n",
    "\n",
    "    months, weeks, days, hours, minutes, seconds = calculate_duration(age)\n",
    "\n",
    "    print(\"Duration of life in different time units for age:\" + str(age))\n",
    "    print(\"Months: \" + str(months))\n",
    "    print(\"Weeks: \" + str(weeks))\n",
    "    print(\"Days: \" + str(days))\n",
    "    print(\"Hours: \" + str(hours))\n",
    "    print(\"Minutes: \" + str(minutes))\n",
    "    print(\"Seconds: \" + str(seconds))\n",
    "  except ValueError:\n",
    "    print(\"Invalid input. Please enter a valid age.\")\n",
    "\n",
    "    \n",
    "if __name__ == \"__main__\":\n",
    "  main()\n"
   ]
  }
 ],
 "metadata": {
  "kernelspec": {
   "display_name": "Python 3 (ipykernel)",
   "language": "python",
   "name": "python3"
  },
  "language_info": {
   "codemirror_mode": {
    "name": "ipython",
    "version": 3
   },
   "file_extension": ".py",
   "mimetype": "text/x-python",
   "name": "python",
   "nbconvert_exporter": "python",
   "pygments_lexer": "ipython3",
   "version": "3.11.5"
  }
 },
 "nbformat": 4,
 "nbformat_minor": 5
}
